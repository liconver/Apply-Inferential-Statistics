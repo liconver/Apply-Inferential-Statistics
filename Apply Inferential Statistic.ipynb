{
 "cells": [
  {
   "cell_type": "code",
   "execution_count": 26,
   "metadata": {},
   "outputs": [],
   "source": [
    "import numpy as np\n",
    "import pandas as pd\n",
    "import matplotlib.pyplot as plt\n",
    "import datetime\n",
    "from scipy import stats"
   ]
  },
  {
   "cell_type": "code",
   "execution_count": 2,
   "metadata": {},
   "outputs": [],
   "source": [
    "members = pd.read_csv(r'C:\\Users\\liamc\\OneDrive\\Desktop\\Data Science\\KKbox\\members_v3.csv')\n",
    "members =members.loc[(members['bd']>2) & (members['bd']<99)]\n",
    "train = pd.read_csv(r'C:\\Users\\liamc\\OneDrive\\Desktop\\Data Science\\KKbox\\train.csv')\n",
    "df = pd.merge(members,train,how='inner',on=['msno'])\n",
    "df = df.iloc[0:50000]\n",
    "msnos = df['msno']\n",
    "relevant_user_logs = pd.read_csv(r'C:\\Users\\liamc\\OneDrive\\Desktop\\Data Science\\KKbox\\relevant_user_logs.csv')\n",
    "#relevant_transactions = pd.read_csv(r'C:\\Users\\liamc\\OneDrive\\Desktop\\Data Science\\KKbox\\relevant_transactions.csv')                                 "
   ]
  },
  {
   "cell_type": "code",
   "execution_count": 3,
   "metadata": {},
   "outputs": [],
   "source": [
    "df['registration_init_time'] = pd.to_datetime(df['registration_init_time'],format='%Y%m%d')"
   ]
  },
  {
   "cell_type": "code",
   "execution_count": null,
   "metadata": {},
   "outputs": [],
   "source": [
    "#df_new = relevant_user_logs.groupby(['msno']).agg({'num_25' : ['sum', 'mean', 'count'],'num_50' : ['sum', 'mean', 'count']}).reset_index\n",
    "#df_new"
   ]
  },
  {
   "cell_type": "code",
   "execution_count": 4,
   "metadata": {},
   "outputs": [],
   "source": [
    "mean_user_logs = pd.DataFrame(index=[],columns=[])"
   ]
  },
  {
   "cell_type": "code",
   "execution_count": null,
   "metadata": {},
   "outputs": [],
   "source": [
    "#relevant_user_logs = relevant_user_logs.groupby(['msno','date']).sum()"
   ]
  },
  {
   "cell_type": "code",
   "execution_count": 5,
   "metadata": {},
   "outputs": [],
   "source": [
    "mean_user_logs['num_25'] = relevant_user_logs.groupby('msno')['num_25'].mean()\n",
    "mean_user_logs['num_50'] = relevant_user_logs.groupby('msno')['num_50'].mean()\n",
    "mean_user_logs['num_75'] = relevant_user_logs.groupby('msno')['num_75'].mean()\n",
    "mean_user_logs['num_985'] = relevant_user_logs.groupby('msno')['num_50'].mean()\n",
    "mean_user_logs['num_100'] = relevant_user_logs.groupby('msno')['num_100'].mean()\n",
    "mean_user_logs['num_unq'] = relevant_user_logs.groupby('msno')['num_unq'].mean()\n",
    "mean_user_logs['total_secs'] = relevant_user_logs.groupby('msno')['total_secs'].mean()\n",
    "mean_user_logs['days_logged'] = relevant_user_logs.groupby('msno')['date'].count()"
   ]
  },
  {
   "cell_type": "code",
   "execution_count": 6,
   "metadata": {},
   "outputs": [],
   "source": [
    "mean_user_logs = mean_user_logs.reset_index()"
   ]
  },
  {
   "cell_type": "code",
   "execution_count": 7,
   "metadata": {},
   "outputs": [],
   "source": [
    "df = pd.merge(df,mean_user_logs,how='inner',on='msno')"
   ]
  },
  {
   "cell_type": "code",
   "execution_count": 21,
   "metadata": {},
   "outputs": [
    {
     "data": {
      "text/html": [
       "<div>\n",
       "<style scoped>\n",
       "    .dataframe tbody tr th:only-of-type {\n",
       "        vertical-align: middle;\n",
       "    }\n",
       "\n",
       "    .dataframe tbody tr th {\n",
       "        vertical-align: top;\n",
       "    }\n",
       "\n",
       "    .dataframe thead th {\n",
       "        text-align: right;\n",
       "    }\n",
       "</style>\n",
       "<table border=\"1\" class=\"dataframe\">\n",
       "  <thead>\n",
       "    <tr style=\"text-align: right;\">\n",
       "      <th></th>\n",
       "      <th>msno</th>\n",
       "      <th>city</th>\n",
       "      <th>bd</th>\n",
       "      <th>gender</th>\n",
       "      <th>registered_via</th>\n",
       "      <th>registration_init_time</th>\n",
       "      <th>is_churn</th>\n",
       "      <th>num_25</th>\n",
       "      <th>num_50</th>\n",
       "      <th>num_75</th>\n",
       "      <th>num_985</th>\n",
       "      <th>num_100</th>\n",
       "      <th>num_unq</th>\n",
       "      <th>total_secs</th>\n",
       "      <th>days_logged</th>\n",
       "    </tr>\n",
       "  </thead>\n",
       "  <tbody>\n",
       "    <tr>\n",
       "      <th>0</th>\n",
       "      <td>tlGR5F/+vDFsnQme+KnvXKsCh3y31I1/dBaGuHDfdII=</td>\n",
       "      <td>5</td>\n",
       "      <td>39</td>\n",
       "      <td>female</td>\n",
       "      <td>7</td>\n",
       "      <td>2011-10-12</td>\n",
       "      <td>0</td>\n",
       "      <td>0.000000</td>\n",
       "      <td>0.0</td>\n",
       "      <td>0.666667</td>\n",
       "      <td>0.0</td>\n",
       "      <td>11.666667</td>\n",
       "      <td>5.666667</td>\n",
       "      <td>34409.561667</td>\n",
       "      <td>3</td>\n",
       "    </tr>\n",
       "    <tr>\n",
       "      <th>1</th>\n",
       "      <td>m0h0+lJIok7k6BzAoOnq+x+mB1tbi9shGF/egYLbed4=</td>\n",
       "      <td>4</td>\n",
       "      <td>22</td>\n",
       "      <td>female</td>\n",
       "      <td>7</td>\n",
       "      <td>2014-10-20</td>\n",
       "      <td>0</td>\n",
       "      <td>27.400000</td>\n",
       "      <td>4.6</td>\n",
       "      <td>1.400000</td>\n",
       "      <td>4.6</td>\n",
       "      <td>28.600000</td>\n",
       "      <td>50.800000</td>\n",
       "      <td>8129.652200</td>\n",
       "      <td>5</td>\n",
       "    </tr>\n",
       "    <tr>\n",
       "      <th>2</th>\n",
       "      <td>eIOUZ5I+NV/3EDfn/U/tMepn4FJt2SdzOrWGH1tNlYI=</td>\n",
       "      <td>5</td>\n",
       "      <td>24</td>\n",
       "      <td>male</td>\n",
       "      <td>3</td>\n",
       "      <td>2014-10-25</td>\n",
       "      <td>0</td>\n",
       "      <td>1.500000</td>\n",
       "      <td>1.5</td>\n",
       "      <td>0.500000</td>\n",
       "      <td>1.5</td>\n",
       "      <td>5.500000</td>\n",
       "      <td>6.500000</td>\n",
       "      <td>1570.918250</td>\n",
       "      <td>4</td>\n",
       "    </tr>\n",
       "    <tr>\n",
       "      <th>3</th>\n",
       "      <td>fkLgfIOX0bWM9/BQQChOCDzoos23szsckxPvxrBbtmY=</td>\n",
       "      <td>4</td>\n",
       "      <td>20</td>\n",
       "      <td>female</td>\n",
       "      <td>9</td>\n",
       "      <td>2014-10-29</td>\n",
       "      <td>0</td>\n",
       "      <td>12.333333</td>\n",
       "      <td>2.0</td>\n",
       "      <td>1.000000</td>\n",
       "      <td>2.0</td>\n",
       "      <td>37.333333</td>\n",
       "      <td>31.333333</td>\n",
       "      <td>8934.766667</td>\n",
       "      <td>3</td>\n",
       "    </tr>\n",
       "    <tr>\n",
       "      <th>4</th>\n",
       "      <td>0uAjNEzX6IY+lZ+PYv9W31mZjHxUWkbFz9LL8m9G46k=</td>\n",
       "      <td>15</td>\n",
       "      <td>23</td>\n",
       "      <td>female</td>\n",
       "      <td>7</td>\n",
       "      <td>2014-11-03</td>\n",
       "      <td>0</td>\n",
       "      <td>9.000000</td>\n",
       "      <td>2.0</td>\n",
       "      <td>2.200000</td>\n",
       "      <td>2.0</td>\n",
       "      <td>79.200000</td>\n",
       "      <td>66.600000</td>\n",
       "      <td>18840.851600</td>\n",
       "      <td>5</td>\n",
       "    </tr>\n",
       "  </tbody>\n",
       "</table>\n",
       "</div>"
      ],
      "text/plain": [
       "                                           msno  city  bd  gender  \\\n",
       "0  tlGR5F/+vDFsnQme+KnvXKsCh3y31I1/dBaGuHDfdII=     5  39  female   \n",
       "1  m0h0+lJIok7k6BzAoOnq+x+mB1tbi9shGF/egYLbed4=     4  22  female   \n",
       "2  eIOUZ5I+NV/3EDfn/U/tMepn4FJt2SdzOrWGH1tNlYI=     5  24    male   \n",
       "3  fkLgfIOX0bWM9/BQQChOCDzoos23szsckxPvxrBbtmY=     4  20  female   \n",
       "4  0uAjNEzX6IY+lZ+PYv9W31mZjHxUWkbFz9LL8m9G46k=    15  23  female   \n",
       "\n",
       "   registered_via registration_init_time  is_churn     num_25  num_50  \\\n",
       "0               7             2011-10-12         0   0.000000     0.0   \n",
       "1               7             2014-10-20         0  27.400000     4.6   \n",
       "2               3             2014-10-25         0   1.500000     1.5   \n",
       "3               9             2014-10-29         0  12.333333     2.0   \n",
       "4               7             2014-11-03         0   9.000000     2.0   \n",
       "\n",
       "     num_75  num_985    num_100    num_unq    total_secs  days_logged  \n",
       "0  0.666667      0.0  11.666667   5.666667  34409.561667            3  \n",
       "1  1.400000      4.6  28.600000  50.800000   8129.652200            5  \n",
       "2  0.500000      1.5   5.500000   6.500000   1570.918250            4  \n",
       "3  1.000000      2.0  37.333333  31.333333   8934.766667            3  \n",
       "4  2.200000      2.0  79.200000  66.600000  18840.851600            5  "
      ]
     },
     "execution_count": 21,
     "metadata": {},
     "output_type": "execute_result"
    }
   ],
   "source": [
    "df.head()"
   ]
  },
  {
   "cell_type": "code",
   "execution_count": 9,
   "metadata": {},
   "outputs": [
    {
     "data": {
      "text/plain": [
       "20618"
      ]
     },
     "execution_count": 9,
     "metadata": {},
     "output_type": "execute_result"
    }
   ],
   "source": [
    "df.msno.nunique()"
   ]
  },
  {
   "cell_type": "code",
   "execution_count": 10,
   "metadata": {},
   "outputs": [
    {
     "data": {
      "text/plain": [
       "1199"
      ]
     },
     "execution_count": 10,
     "metadata": {},
     "output_type": "execute_result"
    }
   ],
   "source": [
    "df.is_churn.sum()"
   ]
  },
  {
   "cell_type": "code",
   "execution_count": 11,
   "metadata": {},
   "outputs": [
    {
     "data": {
      "text/html": [
       "<div>\n",
       "<style scoped>\n",
       "    .dataframe tbody tr th:only-of-type {\n",
       "        vertical-align: middle;\n",
       "    }\n",
       "\n",
       "    .dataframe tbody tr th {\n",
       "        vertical-align: top;\n",
       "    }\n",
       "\n",
       "    .dataframe thead th {\n",
       "        text-align: right;\n",
       "    }\n",
       "</style>\n",
       "<table border=\"1\" class=\"dataframe\">\n",
       "  <thead>\n",
       "    <tr style=\"text-align: right;\">\n",
       "      <th></th>\n",
       "      <th>city</th>\n",
       "      <th>bd</th>\n",
       "      <th>registered_via</th>\n",
       "      <th>num_25</th>\n",
       "      <th>num_50</th>\n",
       "      <th>num_75</th>\n",
       "      <th>num_985</th>\n",
       "      <th>num_100</th>\n",
       "      <th>num_unq</th>\n",
       "      <th>total_secs</th>\n",
       "      <th>days_logged</th>\n",
       "    </tr>\n",
       "    <tr>\n",
       "      <th>is_churn</th>\n",
       "      <th></th>\n",
       "      <th></th>\n",
       "      <th></th>\n",
       "      <th></th>\n",
       "      <th></th>\n",
       "      <th></th>\n",
       "      <th></th>\n",
       "      <th></th>\n",
       "      <th></th>\n",
       "      <th></th>\n",
       "      <th></th>\n",
       "    </tr>\n",
       "  </thead>\n",
       "  <tbody>\n",
       "    <tr>\n",
       "      <th>0</th>\n",
       "      <td>11.051341</td>\n",
       "      <td>30.025645</td>\n",
       "      <td>7.45337</td>\n",
       "      <td>6.039892</td>\n",
       "      <td>1.505338</td>\n",
       "      <td>0.955057</td>\n",
       "      <td>1.505338</td>\n",
       "      <td>32.097765</td>\n",
       "      <td>30.590366</td>\n",
       "      <td>8340.680574</td>\n",
       "      <td>4.148875</td>\n",
       "    </tr>\n",
       "    <tr>\n",
       "      <th>1</th>\n",
       "      <td>10.496247</td>\n",
       "      <td>27.412844</td>\n",
       "      <td>6.70809</td>\n",
       "      <td>6.236878</td>\n",
       "      <td>1.544384</td>\n",
       "      <td>1.036308</td>\n",
       "      <td>1.544384</td>\n",
       "      <td>28.635043</td>\n",
       "      <td>29.045927</td>\n",
       "      <td>7509.832552</td>\n",
       "      <td>3.860717</td>\n",
       "    </tr>\n",
       "  </tbody>\n",
       "</table>\n",
       "</div>"
      ],
      "text/plain": [
       "               city         bd  registered_via    num_25    num_50    num_75  \\\n",
       "is_churn                                                                       \n",
       "0         11.051341  30.025645         7.45337  6.039892  1.505338  0.955057   \n",
       "1         10.496247  27.412844         6.70809  6.236878  1.544384  1.036308   \n",
       "\n",
       "           num_985    num_100    num_unq   total_secs  days_logged  \n",
       "is_churn                                                            \n",
       "0         1.505338  32.097765  30.590366  8340.680574     4.148875  \n",
       "1         1.544384  28.635043  29.045927  7509.832552     3.860717  "
      ]
     },
     "execution_count": 11,
     "metadata": {},
     "output_type": "execute_result"
    }
   ],
   "source": [
    "df.groupby('is_churn').mean()"
   ]
  },
  {
   "cell_type": "code",
   "execution_count": null,
   "metadata": {},
   "outputs": [],
   "source": [
    "df.groupby('city').mean()"
   ]
  },
  {
   "cell_type": "code",
   "execution_count": 15,
   "metadata": {},
   "outputs": [
    {
     "data": {
      "text/plain": [
       "<matplotlib.axes._subplots.AxesSubplot at 0x2883b3542e8>"
      ]
     },
     "execution_count": 15,
     "metadata": {},
     "output_type": "execute_result"
    },
    {
     "data": {
      "image/png": "[encoded data removed]",
      "text/plain": [
       "<matplotlib.figure.Figure at 0x288279cb7f0>"
      ]
     },
     "metadata": {},
     "output_type": "display_data"
    }
   ],
   "source": [
    "pd.crosstab(df.city,df.is_churn).plot(kind='bar')"
   ]
  },
  {
   "cell_type": "code",
   "execution_count": null,
   "metadata": {},
   "outputs": [],
   "source": [
    "df.groupby('bd').mean()"
   ]
  },
  {
   "cell_type": "code",
   "execution_count": 17,
   "metadata": {},
   "outputs": [
    {
     "data": {
      "text/plain": [
       "<matplotlib.axes._subplots.AxesSubplot at 0x2885a4b6d68>"
      ]
     },
     "execution_count": 17,
     "metadata": {},
     "output_type": "execute_result"
    },
    {
     "data": {
      "image/png": "[encoded data removed]",
      "text/plain": [
       "<matplotlib.figure.Figure at 0x2880042d1d0>"
      ]
     },
     "metadata": {},
     "output_type": "display_data"
    }
   ],
   "source": [
    "pd.crosstab(df.bd,df.is_churn).plot(kind='bar')"
   ]
  },
  {
   "cell_type": "code",
   "execution_count": 22,
   "metadata": {},
   "outputs": [
    {
     "data": {
      "text/plain": [
       "<matplotlib.axes._subplots.AxesSubplot at 0x28800cf35f8>"
      ]
     },
     "execution_count": 22,
     "metadata": {},
     "output_type": "execute_result"
    },
    {
     "data": {
      "image/png": "[encoded data removed]",
      "text/plain": [
       "<matplotlib.figure.Figure at 0x2880076b7b8>"
      ]
     },
     "metadata": {},
     "output_type": "display_data"
    }
   ],
   "source": [
    "pd.crosstab(df.days_logged,df.is_churn).plot(kind='bar')"
   ]
  },
  {
   "cell_type": "code",
   "execution_count": 19,
   "metadata": {},
   "outputs": [
    {
     "data": {
      "text/plain": [
       "<matplotlib.axes._subplots.AxesSubplot at 0x2880079ecf8>"
      ]
     },
     "execution_count": 19,
     "metadata": {},
     "output_type": "execute_result"
    },
    {
     "data": {
      "image/png": "[encoded data removed]",
      "text/plain": [
       "<matplotlib.figure.Figure at 0x288007577b8>"
      ]
     },
     "metadata": {},
     "output_type": "display_data"
    }
   ],
   "source": [
    "pd.crosstab(df.registered_via,df.is_churn).plot(kind='bar')"
   ]
  },
  {
   "cell_type": "code",
   "execution_count": 25,
   "metadata": {},
   "outputs": [
    {
     "data": {
      "text/html": [
       "<div>\n",
       "<style scoped>\n",
       "    .dataframe tbody tr th:only-of-type {\n",
       "        vertical-align: middle;\n",
       "    }\n",
       "\n",
       "    .dataframe tbody tr th {\n",
       "        vertical-align: top;\n",
       "    }\n",
       "\n",
       "    .dataframe thead th {\n",
       "        text-align: right;\n",
       "    }\n",
       "</style>\n",
       "<table border=\"1\" class=\"dataframe\">\n",
       "  <thead>\n",
       "    <tr style=\"text-align: right;\">\n",
       "      <th></th>\n",
       "      <th>city</th>\n",
       "      <th>bd</th>\n",
       "      <th>registered_via</th>\n",
       "      <th>is_churn</th>\n",
       "      <th>num_25</th>\n",
       "      <th>num_50</th>\n",
       "      <th>num_75</th>\n",
       "      <th>num_985</th>\n",
       "      <th>num_100</th>\n",
       "      <th>num_unq</th>\n",
       "      <th>total_secs</th>\n",
       "      <th>days_logged</th>\n",
       "    </tr>\n",
       "  </thead>\n",
       "  <tbody>\n",
       "    <tr>\n",
       "      <th>city</th>\n",
       "      <td>1.000000</td>\n",
       "      <td>-0.020445</td>\n",
       "      <td>0.045767</td>\n",
       "      <td>-0.022499</td>\n",
       "      <td>0.001224</td>\n",
       "      <td>0.001040</td>\n",
       "      <td>-0.006339</td>\n",
       "      <td>0.001040</td>\n",
       "      <td>-0.000279</td>\n",
       "      <td>-0.000679</td>\n",
       "      <td>-0.002455</td>\n",
       "      <td>0.003994</td>\n",
       "    </tr>\n",
       "    <tr>\n",
       "      <th>bd</th>\n",
       "      <td>-0.020445</td>\n",
       "      <td>1.000000</td>\n",
       "      <td>0.209202</td>\n",
       "      <td>-0.071810</td>\n",
       "      <td>-0.089061</td>\n",
       "      <td>-0.090175</td>\n",
       "      <td>-0.086469</td>\n",
       "      <td>-0.090175</td>\n",
       "      <td>0.022526</td>\n",
       "      <td>-0.040294</td>\n",
       "      <td>0.010269</td>\n",
       "      <td>-0.035512</td>\n",
       "    </tr>\n",
       "    <tr>\n",
       "      <th>registered_via</th>\n",
       "      <td>0.045767</td>\n",
       "      <td>0.209202</td>\n",
       "      <td>1.000000</td>\n",
       "      <td>-0.073980</td>\n",
       "      <td>-0.031941</td>\n",
       "      <td>-0.031360</td>\n",
       "      <td>-0.021466</td>\n",
       "      <td>-0.031360</td>\n",
       "      <td>0.010942</td>\n",
       "      <td>-0.007058</td>\n",
       "      <td>0.007218</td>\n",
       "      <td>-0.019007</td>\n",
       "    </tr>\n",
       "    <tr>\n",
       "      <th>is_churn</th>\n",
       "      <td>-0.022499</td>\n",
       "      <td>-0.071810</td>\n",
       "      <td>-0.073980</td>\n",
       "      <td>1.000000</td>\n",
       "      <td>0.005029</td>\n",
       "      <td>0.003880</td>\n",
       "      <td>0.013094</td>\n",
       "      <td>0.003880</td>\n",
       "      <td>-0.022791</td>\n",
       "      <td>-0.013198</td>\n",
       "      <td>-0.022951</td>\n",
       "      <td>-0.046399</td>\n",
       "    </tr>\n",
       "    <tr>\n",
       "      <th>num_25</th>\n",
       "      <td>0.001224</td>\n",
       "      <td>-0.089061</td>\n",
       "      <td>-0.031941</td>\n",
       "      <td>0.005029</td>\n",
       "      <td>1.000000</td>\n",
       "      <td>0.533542</td>\n",
       "      <td>0.422364</td>\n",
       "      <td>0.533542</td>\n",
       "      <td>0.069331</td>\n",
       "      <td>0.414502</td>\n",
       "      <td>0.118600</td>\n",
       "      <td>0.021858</td>\n",
       "    </tr>\n",
       "    <tr>\n",
       "      <th>num_50</th>\n",
       "      <td>0.001040</td>\n",
       "      <td>-0.090175</td>\n",
       "      <td>-0.031360</td>\n",
       "      <td>0.003880</td>\n",
       "      <td>0.533542</td>\n",
       "      <td>1.000000</td>\n",
       "      <td>0.591780</td>\n",
       "      <td>1.000000</td>\n",
       "      <td>0.078209</td>\n",
       "      <td>0.325399</td>\n",
       "      <td>0.143024</td>\n",
       "      <td>0.032062</td>\n",
       "    </tr>\n",
       "    <tr>\n",
       "      <th>num_75</th>\n",
       "      <td>-0.006339</td>\n",
       "      <td>-0.086469</td>\n",
       "      <td>-0.021466</td>\n",
       "      <td>0.013094</td>\n",
       "      <td>0.422364</td>\n",
       "      <td>0.591780</td>\n",
       "      <td>1.000000</td>\n",
       "      <td>0.591780</td>\n",
       "      <td>0.102863</td>\n",
       "      <td>0.301384</td>\n",
       "      <td>0.173186</td>\n",
       "      <td>0.031214</td>\n",
       "    </tr>\n",
       "    <tr>\n",
       "      <th>num_985</th>\n",
       "      <td>0.001040</td>\n",
       "      <td>-0.090175</td>\n",
       "      <td>-0.031360</td>\n",
       "      <td>0.003880</td>\n",
       "      <td>0.533542</td>\n",
       "      <td>1.000000</td>\n",
       "      <td>0.591780</td>\n",
       "      <td>1.000000</td>\n",
       "      <td>0.078209</td>\n",
       "      <td>0.325399</td>\n",
       "      <td>0.143024</td>\n",
       "      <td>0.032062</td>\n",
       "    </tr>\n",
       "    <tr>\n",
       "      <th>num_100</th>\n",
       "      <td>-0.000279</td>\n",
       "      <td>0.022526</td>\n",
       "      <td>0.010942</td>\n",
       "      <td>-0.022791</td>\n",
       "      <td>0.069331</td>\n",
       "      <td>0.078209</td>\n",
       "      <td>0.102863</td>\n",
       "      <td>0.078209</td>\n",
       "      <td>1.000000</td>\n",
       "      <td>0.783419</td>\n",
       "      <td>0.982416</td>\n",
       "      <td>0.076924</td>\n",
       "    </tr>\n",
       "    <tr>\n",
       "      <th>num_unq</th>\n",
       "      <td>-0.000679</td>\n",
       "      <td>-0.040294</td>\n",
       "      <td>-0.007058</td>\n",
       "      <td>-0.013198</td>\n",
       "      <td>0.414502</td>\n",
       "      <td>0.325399</td>\n",
       "      <td>0.301384</td>\n",
       "      <td>0.325399</td>\n",
       "      <td>0.783419</td>\n",
       "      <td>1.000000</td>\n",
       "      <td>0.819015</td>\n",
       "      <td>0.068628</td>\n",
       "    </tr>\n",
       "    <tr>\n",
       "      <th>total_secs</th>\n",
       "      <td>-0.002455</td>\n",
       "      <td>0.010269</td>\n",
       "      <td>0.007218</td>\n",
       "      <td>-0.022951</td>\n",
       "      <td>0.118600</td>\n",
       "      <td>0.143024</td>\n",
       "      <td>0.173186</td>\n",
       "      <td>0.143024</td>\n",
       "      <td>0.982416</td>\n",
       "      <td>0.819015</td>\n",
       "      <td>1.000000</td>\n",
       "      <td>0.080310</td>\n",
       "    </tr>\n",
       "    <tr>\n",
       "      <th>days_logged</th>\n",
       "      <td>0.003994</td>\n",
       "      <td>-0.035512</td>\n",
       "      <td>-0.019007</td>\n",
       "      <td>-0.046399</td>\n",
       "      <td>0.021858</td>\n",
       "      <td>0.032062</td>\n",
       "      <td>0.031214</td>\n",
       "      <td>0.032062</td>\n",
       "      <td>0.076924</td>\n",
       "      <td>0.068628</td>\n",
       "      <td>0.080310</td>\n",
       "      <td>1.000000</td>\n",
       "    </tr>\n",
       "  </tbody>\n",
       "</table>\n",
       "</div>"
      ],
      "text/plain": [
       "                    city        bd  registered_via  is_churn    num_25  \\\n",
       "city            1.000000 -0.020445        0.045767 -0.022499  0.001224   \n",
       "bd             -0.020445  1.000000        0.209202 -0.071810 -0.089061   \n",
       "registered_via  0.045767  0.209202        1.000000 -0.073980 -0.031941   \n",
       "is_churn       -0.022499 -0.071810       -0.073980  1.000000  0.005029   \n",
       "num_25          0.001224 -0.089061       -0.031941  0.005029  1.000000   \n",
       "num_50          0.001040 -0.090175       -0.031360  0.003880  0.533542   \n",
       "num_75         -0.006339 -0.086469       -0.021466  0.013094  0.422364   \n",
       "num_985         0.001040 -0.090175       -0.031360  0.003880  0.533542   \n",
       "num_100        -0.000279  0.022526        0.010942 -0.022791  0.069331   \n",
       "num_unq        -0.000679 -0.040294       -0.007058 -0.013198  0.414502   \n",
       "total_secs     -0.002455  0.010269        0.007218 -0.022951  0.118600   \n",
       "days_logged     0.003994 -0.035512       -0.019007 -0.046399  0.021858   \n",
       "\n",
       "                  num_50    num_75   num_985   num_100   num_unq  total_secs  \\\n",
       "city            0.001040 -0.006339  0.001040 -0.000279 -0.000679   -0.002455   \n",
       "bd             -0.090175 -0.086469 -0.090175  0.022526 -0.040294    0.010269   \n",
       "registered_via -0.031360 -0.021466 -0.031360  0.010942 -0.007058    0.007218   \n",
       "is_churn        0.003880  0.013094  0.003880 -0.022791 -0.013198   -0.022951   \n",
       "num_25          0.533542  0.422364  0.533542  0.069331  0.414502    0.118600   \n",
       "num_50          1.000000  0.591780  1.000000  0.078209  0.325399    0.143024   \n",
       "num_75          0.591780  1.000000  0.591780  0.102863  0.301384    0.173186   \n",
       "num_985         1.000000  0.591780  1.000000  0.078209  0.325399    0.143024   \n",
       "num_100         0.078209  0.102863  0.078209  1.000000  0.783419    0.982416   \n",
       "num_unq         0.325399  0.301384  0.325399  0.783419  1.000000    0.819015   \n",
       "total_secs      0.143024  0.173186  0.143024  0.982416  0.819015    1.000000   \n",
       "days_logged     0.032062  0.031214  0.032062  0.076924  0.068628    0.080310   \n",
       "\n",
       "                days_logged  \n",
       "city               0.003994  \n",
       "bd                -0.035512  \n",
       "registered_via    -0.019007  \n",
       "is_churn          -0.046399  \n",
       "num_25             0.021858  \n",
       "num_50             0.032062  \n",
       "num_75             0.031214  \n",
       "num_985            0.032062  \n",
       "num_100            0.076924  \n",
       "num_unq            0.068628  \n",
       "total_secs         0.080310  \n",
       "days_logged        1.000000  "
      ]
     },
     "execution_count": 25,
     "metadata": {},
     "output_type": "execute_result"
    }
   ],
   "source": [
    "df.corr()"
   ]
  },
  {
   "cell_type": "code",
   "execution_count": 27,
   "metadata": {},
   "outputs": [
    {
     "data": {
      "text/plain": [
       "(-0.02279101560069628, 0.0010649473416247186)"
      ]
     },
     "execution_count": 27,
     "metadata": {},
     "output_type": "execute_result"
    }
   ],
   "source": [
    "stats.pearsonr(df.is_churn,df.num_100)"
   ]
  },
  {
   "cell_type": "code",
   "execution_count": 29,
   "metadata": {},
   "outputs": [
    {
     "data": {
      "text/plain": [
       "(-0.07180958484111252, 5.499064593256068e-25)"
      ]
     },
     "execution_count": 29,
     "metadata": {},
     "output_type": "execute_result"
    }
   ],
   "source": [
    "stats.pearsonr(df.is_churn,df.bd)"
   ]
  },
  {
   "cell_type": "code",
   "execution_count": 30,
   "metadata": {},
   "outputs": [
    {
     "data": {
      "text/plain": [
       "(-0.013198245185535945, 0.05807920609498459)"
      ]
     },
     "execution_count": 30,
     "metadata": {},
     "output_type": "execute_result"
    }
   ],
   "source": [
    "stats.pearsonr(df.is_churn,df.num_unq)"
   ]
  },
  {
   "cell_type": "code",
   "execution_count": 31,
   "metadata": {},
   "outputs": [
    {
     "data": {
      "text/plain": [
       "(-0.022951261045927235, 0.0009814226796944717)"
      ]
     },
     "execution_count": 31,
     "metadata": {},
     "output_type": "execute_result"
    }
   ],
   "source": [
    "stats.pearsonr(df.is_churn,df.total_secs)"
   ]
  },
  {
   "cell_type": "code",
   "execution_count": 32,
   "metadata": {},
   "outputs": [
    {
     "data": {
      "text/plain": [
       "(0.0050291289786825386, 0.4702379954006739)"
      ]
     },
     "execution_count": 32,
     "metadata": {},
     "output_type": "execute_result"
    }
   ],
   "source": [
    "stats.pearsonr(df.is_churn,df.num_25)"
   ]
  },
  {
   "cell_type": "code",
   "execution_count": 33,
   "metadata": {},
   "outputs": [
    {
     "data": {
      "text/plain": [
       "(0.0038802181273000402, 0.5774402186936722)"
      ]
     },
     "execution_count": 33,
     "metadata": {},
     "output_type": "execute_result"
    }
   ],
   "source": [
    "stats.pearsonr(df.is_churn,df.num_50)"
   ]
  },
  {
   "cell_type": "code",
   "execution_count": 34,
   "metadata": {},
   "outputs": [
    {
     "data": {
      "text/plain": [
       "(0.013093945312760204, 0.06009142669065864)"
      ]
     },
     "execution_count": 34,
     "metadata": {},
     "output_type": "execute_result"
    }
   ],
   "source": [
    "stats.pearsonr(df.is_churn,df.num_75)"
   ]
  },
  {
   "cell_type": "code",
   "execution_count": 35,
   "metadata": {},
   "outputs": [
    {
     "data": {
      "text/plain": [
       "(0.0038802181273000402, 0.5774402186936722)"
      ]
     },
     "execution_count": 35,
     "metadata": {},
     "output_type": "execute_result"
    }
   ],
   "source": [
    "stats.pearsonr(df.is_churn,df.num_985)"
   ]
  },
  {
   "cell_type": "code",
   "execution_count": 36,
   "metadata": {},
   "outputs": [
    {
     "data": {
      "text/plain": [
       "(Mean(statistic=29.87370258996993, minmax=(29.77615773088007, 29.971247449059792)),\n",
       " Variance(statistic=72.51048217791646, minmax=(71.33580162202442, 73.6851627338085)),\n",
       " Std_dev(statistic=8.515308695397746, minmax=(8.446334064065418, 8.584283326730073)))"
      ]
     },
     "execution_count": 36,
     "metadata": {},
     "output_type": "execute_result"
    }
   ],
   "source": [
    "stats.bayes_mvs(df.bd)"
   ]
  },
  {
   "cell_type": "code",
   "execution_count": 37,
   "metadata": {},
   "outputs": [
    {
     "data": {
      "text/plain": [
       "(Mean(statistic=8292.364210478978, minmax=(8195.314216292625, 8389.41420466533)),\n",
       " Variance(statistic=71776627.56999883, minmax=(70613835.5674977, 72939419.57249996)),\n",
       " Std_dev(statistic=8472.108803007597, minmax=(8403.484094004312, 8540.733512010882)))"
      ]
     },
     "execution_count": 37,
     "metadata": {},
     "output_type": "execute_result"
    }
   ],
   "source": [
    "stats.bayes_mvs(df.total_secs)"
   ]
  },
  {
   "cell_type": "code",
   "execution_count": null,
   "metadata": {},
   "outputs": [],
   "source": []
  }
 ],
 "metadata": {
  "kernelspec": {
   "display_name": "Python 3",
   "language": "python",
   "name": "python3"
  },
  "language_info": {
   "codemirror_mode": {
    "name": "ipython",
    "version": 3
   },
   "file_extension": ".py",
   "mimetype": "text/x-python",
   "name": "python",
   "nbconvert_exporter": "python",
   "pygments_lexer": "ipython3",
   "version": "3.6.4"
  }
 },
 "nbformat": 4,
 "nbformat_minor": 2
}
